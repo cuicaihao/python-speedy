{
 "cells": [
  {
   "cell_type": "code",
   "execution_count": 2,
   "metadata": {},
   "outputs": [
    {
     "data": {
      "text/plain": [
       "['AA',\n",
       " 'AT',\n",
       " 'AC',\n",
       " 'AG',\n",
       " 'TA',\n",
       " 'TT',\n",
       " 'TC',\n",
       " 'TG',\n",
       " 'CA',\n",
       " 'CT',\n",
       " 'CC',\n",
       " 'CG',\n",
       " 'GA',\n",
       " 'GT',\n",
       " 'GC',\n",
       " 'GG']"
      ]
     },
     "execution_count": 2,
     "metadata": {},
     "output_type": "execute_result"
    }
   ],
   "source": [
    "from functools import reduce\n",
    "K = 3\n",
    "reduce(lambda x,y: [i+j for i in x for j in y], [['A','T','C','G']] * 2)\n"
   ]
  },
  {
   "cell_type": "code",
   "execution_count": null,
   "metadata": {},
   "outputs": [],
   "source": []
  }
 ],
 "metadata": {
  "kernelspec": {
   "display_name": "base",
   "language": "python",
   "name": "python3"
  },
  "language_info": {
   "codemirror_mode": {
    "name": "ipython",
    "version": 3
   },
   "file_extension": ".py",
   "mimetype": "text/x-python",
   "name": "python",
   "nbconvert_exporter": "python",
   "pygments_lexer": "ipython3",
   "version": "3.12.2"
  }
 },
 "nbformat": 4,
 "nbformat_minor": 2
}
